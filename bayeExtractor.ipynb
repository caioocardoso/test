{
 "cells": [
  {
   "cell_type": "markdown",
   "id": "48e4e49e",
   "metadata": {},
   "source": [
    "# Dependências"
   ]
  },
  {
   "cell_type": "code",
   "execution_count": 157,
   "id": "f8026a62",
   "metadata": {},
   "outputs": [
    {
     "name": "stdout",
     "output_type": "stream",
     "text": [
      "\u001b[32mCourtesy Notice\u001b[0m: Pipenv found itself running within a virtual environment, so it will automatically use that environment, instead of creating its own for any project. You can set \u001b[1mPIPENV_IGNORE_VIRTUALENVS=1\u001b[0m to force pipenv to ignore that environment and create its own instead. You can set \u001b[1mPIPENV_VERBOSITY=-1\u001b[0m to suppress this warning.\n",
      "\u001b[1;32mInstalling pandas\u001b[0m\u001b[1;33m...\u001b[0m\n",
      "\u001b[?25lResolving pandas\u001b[33m...\u001b[0m\n",
      "\u001b[2K✔ Installation Succeeded\n",
      "\u001b[2K\u001b[32m⠋\u001b[0m Installing pandas...\n",
      "\u001b[1A\u001b[2K\u001b[1mInstalling dependencies from Pipfile.lock \u001b[0m\u001b[1m(\u001b[0m\u001b[1md5e100\u001b[0m\u001b[1m)\u001b[0m\u001b[1;33m...\u001b[0m\n",
      "To activate this project's virtualenv, run \u001b[33mpipenv shell\u001b[0m.\n",
      "Alternatively, run a command inside the virtualenv with \u001b[33mpipenv run\u001b[0m.\n",
      "\u001b[32mCourtesy Notice\u001b[0m: Pipenv found itself running within a virtual environment, so it will automatically use that environment, instead of creating its own for any project. You can set \u001b[1mPIPENV_IGNORE_VIRTUALENVS=1\u001b[0m to force pipenv to ignore that environment and create its own instead. You can set \u001b[1mPIPENV_VERBOSITY=-1\u001b[0m to suppress this warning.\n",
      "\u001b[1;32mInstalling networkx\u001b[0m\u001b[1;33m...\u001b[0m\n",
      "\u001b[?25lResolving networkx\u001b[33m...\u001b[0m\n",
      "\u001b[2K✔ Installation Succeeded\n",
      "\u001b[2K\u001b[32m⠋\u001b[0m Installing networkx...\n",
      "\u001b[1A\u001b[2K\u001b[1;32mInstalling pyvis\u001b[0m\u001b[1;33m...\u001b[0m\n",
      "\u001b[?25lResolving pyvis\u001b[33m...\u001b[0m\n",
      "\u001b[2K✔ Installation Succeeded\n",
      "\u001b[2K\u001b[32m⠋\u001b[0m Installing pyvis...\n",
      "\u001b[1A\u001b[2K\u001b[1mInstalling dependencies from Pipfile.lock \u001b[0m\u001b[1m(\u001b[0m\u001b[1md5e100\u001b[0m\u001b[1m)\u001b[0m\u001b[1;33m...\u001b[0m\n",
      "To activate this project's virtualenv, run \u001b[33mpipenv shell\u001b[0m.\n",
      "Alternatively, run a command inside the virtualenv with \u001b[33mpipenv run\u001b[0m.\n"
     ]
    }
   ],
   "source": [
    "!pipenv install pandas\n",
    "!pipenv install networkx pyvis"
   ]
  },
  {
   "cell_type": "markdown",
   "id": "6e85b8fc",
   "metadata": {},
   "source": [
    "# Construção da Rede"
   ]
  },
  {
   "cell_type": "code",
   "execution_count": 1,
   "id": "43cced13",
   "metadata": {},
   "outputs": [],
   "source": [
    "import pandas as pd\n",
    "import networkx as nx\n",
    "from collections import Counter\n",
    "from pyvis.network import Network\n",
    "import re"
   ]
  },
  {
   "cell_type": "code",
   "execution_count": 2,
   "id": "7c449245",
   "metadata": {},
   "outputs": [],
   "source": [
    "# --- CONFIGURAÇÕES ---\n",
    "INPUT_FILE = 'enriched_cause_effect_relations.csv'\n",
    "OUTPUT_VISUAL = 'bayesian_network.html'\n",
    "OUTPUT_FILE = 'bayesian_network.csv'\n",
    "\n",
    "LIMIAR_FREQUENCY = 1"
   ]
  },
  {
   "cell_type": "code",
   "execution_count": 3,
   "id": "4b3a6c54",
   "metadata": {},
   "outputs": [],
   "source": [
    "STOP_WORDS_CUSTOM = {\n",
    "    # Lixo comum de PDF/Extração\n",
    "    \"tcc\", \"artigo\", \"original\", \"referências\", \"bibliográficas\", \"issn\", \"doi\", \n",
    "    \"página\", \"conclusões\", \"resultados\", \"objetivo\", \"método\", \"figura\", \"tabela\",\n",
    "    \"et al\", \"apud\", \"nº\", \"https\", \"www\", \"copyright\", \"licença\",\n",
    "    \n",
    "    # Stop words de outros idiomas que aparecem com frequência\n",
    "    \"the\", \"of\", \"and\", \"in\", \"to\", \"is\", \"a\", \"with\", \"for\", \"by\", \"that\", \"it\",\n",
    "    \"as\", \"on\", \"are\", \"from\", \"or\", \"an\", \"may\", \"can\", \"have\", \"been\",\n",
    "    \"la\", \"el\", \"de\", \"en\", \"y\", \"que\", \"un\", \"una\", \"los\", \"las\",\n",
    "    \n",
    "    # Termos muito genéricos que não são úteis como nós\n",
    "    \"estudo\", \"pesquisa\", \"autor\", \"paciente\", \"indivíduo\", \"grupo\"\n",
    "}"
   ]
  },
  {
   "cell_type": "code",
   "execution_count": 4,
   "id": "268db234",
   "metadata": {},
   "outputs": [],
   "source": [
    "# CONSOLIDAÇÃO FINAL DOS NÓS (Normalização)\n",
    "#    Esta etapa mapeia variações para um nome canônico.\n",
    "#    Ex: \"HAS\" e \"Hipertensão Arterial\" -> \"Hipertensão\"\n",
    "def normalize_node_name(entity_text):\n",
    "  if not isinstance(entity_text, str):\n",
    "    return None\n",
    "  text = entity_text.lower().strip()\n",
    "  text = re.sub(r\"^[.,'\\\"“‘\\[\\(]+|[.,'\\\"”’\\]\\)]+$\", \"\", text.strip())\n",
    "\n",
    "  # Regras de normalização\n",
    "  # Categoria: Pressão Arterial\n",
    "  if 'pressão arterial' in text or 'pa' in text or 'pas' in text or 'pad' in text or 'pressóricos' in text:\n",
    "    return 'Pressão Arterial (PA)'\n",
    "  if 'hipertensão' in text or 'has' in text or 'hipertensivo' in text:\n",
    "    return 'Hipertensão Arterial (HAS)'\n",
    "\n",
    "\t# Categoria: Doenças e Condições\n",
    "  if 'cardiovascular' in text or 'dvc' in text or 'coronariana' in text or 'infarto' in text or 'avc' in text:\n",
    "    return 'Doenças Cardiovasculares (DVC)'\n",
    "  if 'doença renal' in text or 'drc' in text:\n",
    "    return 'Doença Renal Crônica (DRC)'\n",
    "  if 'diabetes' in text or 'glicemia' in text or 'insulina' in text:\n",
    "    return 'Diabetes / Glicemia'\n",
    "  if 'doença crônica' in text:\n",
    "    return 'Doença Crônica'\n",
    "  if 'obesidade' in text or 'excesso de peso' in text or 'sobrepeso' in text:\n",
    "    return 'Obesidade / Sobrepeso'\n",
    "  if 'tabagismo' in text or 'fumo' in text or 'fumar' in text or 'cigarro' in text:\n",
    "    return 'Tabagismo'\n",
    "  if 'alcoolismo' in text or 'álcool' in text or 'alcoólicas' in text:\n",
    "    return 'Consumo de Álcool'\n",
    "  if 'sedentarismo' in text or 'atividade física' in text or 'exercício' in text:\n",
    "    return 'Atividade Física / Sedentarismo'\n",
    "  if 'sal' in text or 'sódio' in text:\n",
    "    return 'Consumo de Sal / Sódio'\n",
    "  if 'dieta' in text or 'alimentar' in text or 'nutrição' in text:\n",
    "    return 'Dieta / Alimentação'\n",
    "  if 'estresse' in text:\n",
    "    return 'Estresse'\n",
    "  if 'dislipidemia' in text or 'colesterol' in text or 'triglicerídeos' in text:\n",
    "    return 'Dislipidemia / Colesterol'\n",
    "  if 'potássio' in text:\n",
    "    return 'Consumo de Potássio'\n",
    "  if 'risco' in text:\n",
    "    return 'Fator de Risco'\n",
    "\n",
    "  cleared_text = re.sub(r'^(o|a|os|as)\\s+', '', text)\n",
    "  if len(cleared_text) > 4: return None\n",
    "  if cleared_text in STOP_WORDS_CUSTOM: return None\n",
    "\n",
    "  return cleared_text.capitalize()"
   ]
  },
  {
   "cell_type": "code",
   "execution_count": 5,
   "id": "5a613af7",
   "metadata": {},
   "outputs": [
    {
     "name": "stdout",
     "output_type": "stream",
     "text": [
      "Lidas 728 relações do arquivo.\n"
     ]
    }
   ],
   "source": [
    "# 1. LER O CSV DE RELAÇÕES\n",
    "try:\n",
    "    df = pd.read_csv(INPUT_FILE)\n",
    "except FileNotFoundError:\n",
    "    print(f\"ERRO: Arquivo '{INPUT_FILE}' não encontrado.\")\n",
    "    exit()\n",
    "\n",
    "print(f\"Lidas {len(df)} relações do arquivo.\")"
   ]
  },
  {
   "cell_type": "code",
   "execution_count": 6,
   "id": "2c99f6ea",
   "metadata": {},
   "outputs": [
    {
     "name": "stdout",
     "output_type": "stream",
     "text": [
      "Após normalização, 92 relações válidas encontradas.\n"
     ]
    }
   ],
   "source": [
    "# 2. NORMALIZAR AS ENTIDADES E FILTRAR ARESTAS\n",
    "edge_data = []\n",
    "for index, row in df.iterrows():\n",
    "  cause = row.get('causa')\n",
    "  effect = row.get('efeito')\n",
    "  direction = row.get('direcao')\n",
    "  \n",
    "  if direction == 'Efeito <- Causa':\n",
    "    real_cause = effect\n",
    "    real_effect = cause\n",
    "  elif direction == 'Causa -> Efeito':\n",
    "    real_cause = cause\n",
    "    real_effect = effect\n",
    "  \n",
    "  cannonical_cause = normalize_node_name(real_cause)\n",
    "  cannonical_effect = normalize_node_name(real_effect)\n",
    "\n",
    "  if cannonical_cause and cannonical_effect and cannonical_cause != cannonical_effect:\n",
    "    edge_data.append({\n",
    "      'No_Causa': cannonical_cause,\n",
    "      'No_Efeito': cannonical_effect,\n",
    "      'Direcao': direction,\n",
    "      'Causa_Original': cause,\n",
    "      'Efeito_Original': effect,\n",
    "      'Score_Relacao': row.get('score_relacao', 0),\n",
    "      'Arquivo_Origem': row.get('arquivo_origem', 'N/A'),\n",
    "      'Sentenca_Original': row.get('sentenca_original', 'N/A')\n",
    "    })\n",
    "\n",
    "df_normalized = pd.DataFrame(edge_data)\n",
    "print(f\"Após normalização, {len(df_normalized)} relações válidas encontradas.\")"
   ]
  },
  {
   "cell_type": "code",
   "execution_count": 8,
   "id": "e6d84963",
   "metadata": {},
   "outputs": [
    {
     "name": "stdout",
     "output_type": "stream",
     "text": [
      "INFO: Normalized relations saved to 'bayesian_network.csv'.\n",
      "INFO: Displaying the first 10 normalized relations:\n",
      "                No_Causa               No_Efeito          Direcao  \\\n",
      "0                    Ame          Fator de Risco  Causa -> Efeito   \n",
      "1                    Sra   Pressão Arterial (PA)  Causa -> Efeito   \n",
      "2  Pressão Arterial (PA)  Consumo de Sal / Sódio  Causa -> Efeito   \n",
      "3                    Sna   Pressão Arterial (PA)  Causa -> Efeito   \n",
      "4  Pressão Arterial (PA)          Fator de Risco  Causa -> Efeito   \n",
      "5  Pressão Arterial (PA)     Diabetes / Glicemia  Causa -> Efeito   \n",
      "6      Consumo de Álcool   Pressão Arterial (PA)  Causa -> Efeito   \n",
      "7  Pressão Arterial (PA)     Diabetes / Glicemia  Causa -> Efeito   \n",
      "8                     Ri          Fator de Risco  Causa -> Efeito   \n",
      "9  Pressão Arterial (PA)  Consumo de Sal / Sódio  Causa -> Efeito   \n",
      "\n",
      "                                      Causa_Original  \\\n",
      "0                                              a AME   \n",
      "1                                              o SRA   \n",
      "2                                   A empagliflozina   \n",
      "3                                              o SNA   \n",
      "4  A associação de A. sativum e anticoagulantes o...   \n",
      "5  A sobreposição espacial da SNX5 à IDE próxima ...   \n",
      "6              O abuso crônico de bebidas alcoólicas   \n",
      "7  A inibição aguda do SGLT2 pela empagliflozina ...   \n",
      "8                                               a RI   \n",
      "9  o aumento da deposição de gordura nas paredes ...   \n",
      "\n",
      "                                     Efeito_Original  Score_Relacao  \\\n",
      "0  o risco de eventos CV fatais e não fatais e de...          15.96   \n",
      "1  para uma série de eventos prejudiciais aos rin...          15.38   \n",
      "2             a excreção urinária de glicose e sódio          15.24   \n",
      "3  a variação da frequência cardíaca ( VFC ) , pr...          15.20   \n",
      "4  o risco de hemorragias , sangramentos espontân...          15.13   \n",
      "5                  os níveis de insulina circulantes          15.06   \n",
      "6  estresse oxidativo no miocárdio , mecanismo ce...          14.50   \n",
      "7  o aumento esperado na excreção de sódio e glic...          14.31   \n",
      "8    o risco de SM , DM2 e DCV entre os adolescentes          14.22   \n",
      "9                  a um diâmetro transversal das VAS          14.14   \n",
      "\n",
      "                                      Arquivo_Origem  \\\n",
      "0                     OK SBV HAS Resistente 2020.pdf   \n",
      "1  OK Capítulo HAS pesquisa_aplicada_inovacao_vol...   \n",
      "2                              OK Insulina e HAS.pdf   \n",
      "3                              OK SAO sono e HAS.pdf   \n",
      "4           OK PLantas medicinais e farmacologia.pdf   \n",
      "5                              OK Insulina e HAS.pdf   \n",
      "6                 OK Síndrome Metabólica e HAS 3.pdf   \n",
      "7                              OK Insulina e HAS.pdf   \n",
      "8                   OK Síndrome Metabólica e HAS.pdf   \n",
      "9      OK Distúrbios Respiratórios do Sono e HAS.pdf   \n",
      "\n",
      "                                   Sentenca_Original  \n",
      "0  Uma nova análise do mesmo grupo, porém envolve...  \n",
      "1  Em condições de hiperatividade, o SRA contribu...  \n",
      "2  A empagliflozina aumentou a excreção urinária ...  \n",
      "3  Durante o sono normal, há alterações na ativid...  \n",
      "4  A associação de A. sativum e anticoagulantes o...  \n",
      "5  A sobreposição espacial da SNX5 à IDE próxima ...  \n",
      "6  O abuso crônico de bebidas alcoólicas causa es...  \n",
      "7  A inibição aguda do SGLT2 pela empagliflozina,...  \n",
      "8  Dessa forma, a RI tem aumentando o risco de SM...  \n",
      "9  A infiltração inflamatória das VAS na AB, o au...  \n"
     ]
    }
   ],
   "source": [
    "# 3. SALVAR O DATAFRAME NORMALIZADO\n",
    "if not df_normalized.empty:\n",
    "  df_normalized.to_csv(OUTPUT_FILE, index=False, encoding='utf-8-sig')\n",
    "  print(f\"INFO: Normalized relations saved to '{OUTPUT_FILE}'.\")\n",
    "  print(\"INFO: Displaying the first 10 normalized relations:\")\n",
    "  print(df_normalized.head(10))\n",
    "else:\n",
    "  print(\"INFO: No valid relations found after normalization. Exiting script.\")\n",
    "  exit()"
   ]
  },
  {
   "cell_type": "code",
   "execution_count": 8,
   "id": "41eb1bf8",
   "metadata": {},
   "outputs": [
    {
     "name": "stdout",
     "output_type": "stream",
     "text": [
      "Total de arestas únicas canônicas: 45\n",
      "Arestas mantidas após filtrar por frequência >= 1: 45\n"
     ]
    }
   ],
   "source": [
    "# 4. CONSTRUÇÃO DA ESTRUTURA DA REDE (DAG)\n",
    "# Contar a frequência de cada aresta\n",
    "edge_list = list(zip(df_normalized['No_Causa'], df_normalized['No_Efeito']))\n",
    "edge_frequency = Counter(edge_list)\n",
    "\n",
    "# Filtrar arestas com frequência abaixo do limiar\n",
    "filtered_edges = [edge for edge, freq in edge_frequency.items() if freq >= LIMIAR_FREQUENCY]\n",
    "\n",
    "print(f\"Total de arestas únicas canônicas: {len(filtered_edges)}\")\n",
    "print(f\"Arestas mantidas após filtrar por frequência >= {LIMIAR_FREQUENCY}: {len(filtered_edges)}\")"
   ]
  },
  {
   "cell_type": "code",
   "execution_count": 9,
   "id": "8dc4767f",
   "metadata": {},
   "outputs": [
    {
     "name": "stdout",
     "output_type": "stream",
     "text": [
      "Ciclo encontrado: [('Pressão Arterial (PA)', 'Consumo de Sal / Sódio', 'forward'), ('Consumo de Sal / Sódio', 'Pressão Arterial (PA)', 'forward')]. Removendo aresta para manter DAG.\n",
      "Aresta removida: ('Pressão Arterial (PA)', 'Consumo de Sal / Sódio', 'forward')\n",
      "Ciclo encontrado: [('Fator de Risco', 'Hipertensão Arterial (HAS)', 'forward'), ('Hipertensão Arterial (HAS)', 'Pressão Arterial (PA)', 'forward'), ('Pressão Arterial (PA)', 'Fator de Risco', 'forward')]. Removendo aresta para manter DAG.\n",
      "Aresta removida: ('Fator de Risco', 'Hipertensão Arterial (HAS)', 'forward')\n",
      "Ciclo encontrado: [('Fator de Risco', 'Doenças Cardiovasculares (DVC)', 'forward'), ('Doenças Cardiovasculares (DVC)', 'Pressão Arterial (PA)', 'forward'), ('Pressão Arterial (PA)', 'Fator de Risco', 'forward')]. Removendo aresta para manter DAG.\n",
      "Aresta removida: ('Doenças Cardiovasculares (DVC)', 'Pressão Arterial (PA)', 'forward')\n",
      "Ciclo encontrado: [('Fator de Risco', 'Obesidade / Sobrepeso', 'forward'), ('Obesidade / Sobrepeso', 'Fator de Risco', 'forward')]. Removendo aresta para manter DAG.\n",
      "Aresta removida: ('Fator de Risco', 'Obesidade / Sobrepeso', 'forward')\n",
      "Ciclo encontrado: [('Pressão Arterial (PA)', 'Diabetes / Glicemia', 'forward'), ('Diabetes / Glicemia', 'Consumo de Sal / Sódio', 'forward'), ('Consumo de Sal / Sódio', 'Pressão Arterial (PA)', 'forward')]. Removendo aresta para manter DAG.\n",
      "Aresta removida: ('Pressão Arterial (PA)', 'Diabetes / Glicemia', 'forward')\n",
      "Ciclo encontrado: [('Pressão Arterial (PA)', 'Estresse', 'forward'), ('Estresse', 'Pressão Arterial (PA)', 'forward')]. Removendo aresta para manter DAG.\n",
      "Aresta removida: ('Pressão Arterial (PA)', 'Estresse', 'forward')\n",
      "Ciclo encontrado: [('Pressão Arterial (PA)', 'Dislipidemia / Colesterol', 'forward'), ('Dislipidemia / Colesterol', 'Pressão Arterial (PA)', 'forward')]. Removendo aresta para manter DAG.\n",
      "Aresta removida: ('Pressão Arterial (PA)', 'Dislipidemia / Colesterol', 'forward')\n",
      "Ciclo encontrado: [('Pressão Arterial (PA)', 'Hipertensão Arterial (HAS)', 'forward'), ('Hipertensão Arterial (HAS)', 'Pressão Arterial (PA)', 'forward')]. Removendo aresta para manter DAG.\n",
      "Aresta removida: ('Pressão Arterial (PA)', 'Hipertensão Arterial (HAS)', 'forward')\n",
      "Rede final com 23 nós e 37 arestas após remover nós isolados.\n"
     ]
    }
   ],
   "source": [
    "# Criar o grafo direcionado com NetworkX\n",
    "G = nx.DiGraph()\n",
    "for cause, effect in filtered_edges:\n",
    "  count = edge_frequency[(cause, effect)]\n",
    "  G.add_edge(cause, effect, value=count, title=f\"Contagem: {count}\")\n",
    "\n",
    "while not nx.is_directed_acyclic_graph(G):\n",
    "  try:\n",
    "    cycle = nx.find_cycle(G, orientation='original')\n",
    "    print(f\"Ciclo encontrado: {cycle}. Removendo aresta para manter DAG.\")\n",
    "    edge_to_remove = min(cycle, key=lambda edge: G.get_edge_data(edge[0], edge[1])['value'])\n",
    "    G.remove_edge(edge_to_remove[0], edge_to_remove[1])\n",
    "    print(f\"Aresta removida: {edge_to_remove}\")\n",
    "  except nx.NetworkXNoCycle:\n",
    "    break\n",
    "\n",
    "isolated_nodes = list(nx.isolates(G))\n",
    "G.remove_nodes_from(isolated_nodes)\n",
    "print(f\"Rede final com {G.number_of_nodes()} nós e {G.number_of_edges()} arestas após remover nós isolados.\")"
   ]
  },
  {
   "cell_type": "code",
   "execution_count": 10,
   "id": "d3bdd792",
   "metadata": {},
   "outputs": [
    {
     "name": "stdout",
     "output_type": "stream",
     "text": [
      "Gerando visualização da rede...\n",
      "Warning: When  cdn_resources is 'local' jupyter notebook has issues displaying graphics on chrome/safari. Use cdn_resources='in_line' or cdn_resources='remote' if you have issues viewing graphics in a notebook.\n",
      "Visualização da rede salva em 'bayesian_network.html'. Abra este arquivo em seu navegador.\n"
     ]
    }
   ],
   "source": [
    "# 5. VISUALIZAÇÃO DA REDE COM PYVIS\n",
    "print(\"Gerando visualização da rede...\")\n",
    "\n",
    "# Criar um objeto de rede Pyvis\n",
    "net = Network(height=\"800px\", width=\"100%\", bgcolor=\"#222222\", font_color=\"white\", notebook=True, directed=True)\n",
    "\n",
    "# Adicionar os nós e arestas do grafo NetworkX\n",
    "net.from_nx(G)\n",
    "\n",
    "# Ajustar a física para uma melhor visualização\n",
    "net.set_options(\"\"\"\n",
    "var options = {\n",
    "  \"nodes\": {\n",
    "    \"borderWidth\": 2,\n",
    "    \"scaling\": {\n",
    "      \"min\": 15,\n",
    "      \"max\": 50,\n",
    "      \"label\": { \"min\": 14, \"max\": 30, \"drawThreshold\": 12, \"maxVisible\": 30 }\n",
    "    },\n",
    "    \"font\": {\n",
    "      \"size\": 14,\n",
    "      \"face\": \"Tahoma\"\n",
    "    }\n",
    "  },\n",
    "  \"edges\": {\n",
    "    \"color\": {\n",
    "      \"inherit\": \"from\"\n",
    "    },\n",
    "    \"smooth\": {\n",
    "      \"type\": \"continuous\"\n",
    "    },\n",
    "    \"scaling\":{\n",
    "      \"min\": 1,\n",
    "      \"max\": 15\n",
    "    }\n",
    "  },\n",
    "  \"physics\": {\n",
    "    \"barnesHut\": {\n",
    "      \"gravitationalConstant\": -20000,\n",
    "      \"centralGravity\": 0.1,\n",
    "      \"springLength\": 250\n",
    "    },\n",
    "    \"maxVelocity\": 50,\n",
    "    \"minVelocity\": 0.75,\n",
    "    \"stabilization\": {\n",
    "      \"iterations\": 250\n",
    "    }\n",
    "  }\n",
    "}\n",
    "\"\"\")\n",
    "\n",
    "# Gerar o arquivo HTML\n",
    "try:\n",
    "    net.save_graph(OUTPUT_VISUAL)\n",
    "    print(f\"Visualização da rede salva em '{OUTPUT_VISUAL}'. Abra este arquivo em seu navegador.\")\n",
    "except Exception as e:\n",
    "    print(f\"Erro ao salvar o gráfico: {e}\")"
   ]
  }
 ],
 "metadata": {
  "kernelspec": {
   "display_name": "bayesian-24wTvcBE",
   "language": "python",
   "name": "python3"
  },
  "language_info": {
   "codemirror_mode": {
    "name": "ipython",
    "version": 3
   },
   "file_extension": ".py",
   "mimetype": "text/x-python",
   "name": "python",
   "nbconvert_exporter": "python",
   "pygments_lexer": "ipython3",
   "version": "3.12.3"
  }
 },
 "nbformat": 4,
 "nbformat_minor": 5
}
